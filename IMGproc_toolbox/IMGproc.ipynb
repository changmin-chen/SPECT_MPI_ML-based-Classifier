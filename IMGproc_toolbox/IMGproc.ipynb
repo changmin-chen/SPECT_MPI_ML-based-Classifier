{
 "cells": [
  {
   "cell_type": "code",
   "execution_count": 1,
   "metadata": {},
   "outputs": [],
   "source": [
    "import cv2\n",
    "import numpy as np\n",
    "import SimpleITK as sitk\n",
    "import registration_gui as rgui\n",
    "import matplotlib.pyplot as plt\n",
    "from os.path import join\n",
    "%matplotlib inline"
   ]
  },
  {
   "cell_type": "code",
   "execution_count": 2,
   "metadata": {},
   "outputs": [],
   "source": [
    "image = cv2.imread('..\\data\\TrainSet\\\\1003.jpg')\n",
    "\n",
    "# show\n",
    "# cv2.imshow('Original SPECT MPI image', image)\n",
    "# cv2.waitKey(0)\n",
    "# cv2.destroyAllWindows()"
   ]
  },
  {
   "cell_type": "markdown",
   "metadata": {},
   "source": [
    "### Processing SPECT MPI image\n",
    "1. Cut-out image blocks.\n",
    "2. RGB to grayscale.\n",
    "3. Crop and concatenate blocks into 3D volume.\n",
    "4. Divide into two 3D volume according to status: Stress & Rest."
   ]
  },
  {
   "cell_type": "code",
   "execution_count": null,
   "metadata": {},
   "outputs": [],
   "source": [
    "# Cut-out image blocks\n",
    "SA_rows = np.arange(50,411)\n",
    "HLA_rows = np.arange(483,664)\n",
    "VLA_rows = np.arange(707,888)\n",
    "rows = np.concatenate([SA_rows, HLA_rows, VLA_rows], axis=0)\n",
    "cols = np.arange(69,970)\n",
    "cc_image = image[rows[:,np.newaxis], cols]\n",
    "\n",
    "# RGB to grayscale\n",
    "cc_gray = cv2.cvtColor(cc_image, cv2.COLOR_BGR2GRAY)\n",
    "\n",
    "# Crop and concatenate blocks into 3D volume.\n",
    "block_size = 90\n",
    "cc_gray_3d = np.empty(shape=(block_size,block_size,0), dtype=np.uint8)\n",
    "for row in range(0, block_size*8, block_size):\n",
    "    for col in range(0, block_size*10, block_size):\n",
    "        count = 0\n",
    "        rows_idx = np.arange(row, row+block_size)\n",
    "        cols_idx = np.arange(col, col+block_size)\n",
    "        cc_gray_block = cc_gray[rows_idx[:,np.newaxis], cols_idx, None]\n",
    "        cc_gray_3d = np.concatenate((cc_gray_3d, cc_gray_block), axis=2)\n",
    "# print('3D-concatenated volume shape:', cc_gray_3d.shape)\n",
    "# for frame in range(80):\n",
    "#     cv2.imshow('block imahe', cc_gray_3d[:,:,frame])\n",
    "#     cv2.waitKey(100)\n",
    "# cv2.destroyAllWindows()\n",
    "\n",
    "# Divide into two 3D volume according to status: Stress & Rest.\n",
    "stress_series = [\n",
    "    cc_gray_3d[:,:,np.arange(0,20)], # SA view\n",
    "    cc_gray_3d[:,:,np.arange(40,50)], # HLA view\n",
    "    cc_gray_3d[:,:,np.arange(60,70)] # VLA view\n",
    "    ]\n",
    "\n",
    "rest_series = [\n",
    "    cc_gray_3d[:,:,np.arange(20,40)], # SA view\n",
    "    cc_gray_3d[:,:,np.arange(50,60)], # HLA view\n",
    "    cc_gray_3d[:,:,np.arange(70,80)] # VLA view\n",
    "]\n"
   ]
  },
  {
   "cell_type": "markdown",
   "metadata": {},
   "source": [
    "### 3D Registration using Rigid-body transform\n",
    "1. Initialization: Center transform\n",
    "2. Similarity metric: Mean squares\n",
    "3. Optimizer: Gradient descent\n",
    "4. Interpolator: Linear"
   ]
  },
  {
   "cell_type": "code",
   "execution_count": null,
   "metadata": {},
   "outputs": [],
   "source": [
    "fixed_image = sitk.Cast(sitk.GetImageFromArray(stress_series[1]), sitk.sitkFloat32)\n",
    "print('Fixed image info, Origin:', fixed_image.GetOrigin(), 'Spacing:', fixed_image.GetSpacing(), 'Direction:', fixed_image.GetDirection())\n",
    "moving_image = sitk.Cast(sitk.GetImageFromArray(rest_series[1]), sitk.sitkFloat32)\n",
    "print('Moving image info, Origin:', moving_image.GetOrigin(), 'Spacing:', moving_image.GetSpacing(), 'Direction:', moving_image.GetDirection())"
   ]
  },
  {
   "cell_type": "code",
   "execution_count": null,
   "metadata": {},
   "outputs": [],
   "source": [
    "def multires_registration(fixed_image, moving_image, initial_transform):\n",
    "    registration_method = sitk.ImageRegistrationMethod()\n",
    "    registration_method.SetMetricAsMeanSquares()\n",
    "    # registration_method.SetMetricSamplingStrategy(registration_method.RANDOM)\n",
    "    # registration_method.SetMetricSamplingPercentage(0.5)\n",
    "    registration_method.SetInterpolator(sitk.sitkLinear)\n",
    "    registration_method.SetOptimizerAsGradientDescent(learningRate=1.0, numberOfIterations=100, estimateLearningRate=registration_method.Once)\n",
    "    registration_method.SetOptimizerScalesFromPhysicalShift() \n",
    "    registration_method.SetInitialTransform(initial_transform, inPlace=False)\n",
    "    \n",
    "\n",
    "    # Connect all of the observers so that we can perform plotting during registration\n",
    "    registration_method.AddCommand(sitk.sitkStartEvent, rgui.start_plot)\n",
    "    registration_method.AddCommand(sitk.sitkEndEvent, rgui.end_plot)\n",
    "    registration_method.AddCommand(sitk.sitkMultiResolutionIterationEvent, rgui.update_multires_iterations)\n",
    "    registration_method.AddCommand(sitk.sitkIterationEvent, lambda: rgui.plot_values(registration_method))\n",
    "    \n",
    "\n",
    "    final_transform = registration_method.Execute(fixed_image, moving_image)\n",
    "    print('Final metric value: {0}'.format(registration_method.GetMetricValue()))\n",
    "    print('Optimizer\\'s stopping condition, {0}'.format(registration_method.GetOptimizerStopConditionDescription()))\n",
    "    return (final_transform, registration_method.GetMetricValue())"
   ]
  },
  {
   "cell_type": "code",
   "execution_count": null,
   "metadata": {},
   "outputs": [],
   "source": [
    "initial_transform = sitk.CenteredTransformInitializer(fixed_image, \n",
    "                                                      moving_image, \n",
    "                                                      sitk.Euler3DTransform(), \n",
    "                                                      sitk.CenteredTransformInitializerFilter.GEOMETRY)\n",
    "\n",
    "final_transform, _ = multires_registration(fixed_image, moving_image, initial_transform)"
   ]
  },
  {
   "cell_type": "code",
   "execution_count": null,
   "metadata": {},
   "outputs": [],
   "source": [
    "moving_resampled = sitk.Resample(moving_image, fixed_image, final_transform, sitk.sitkLinear, 0.0, moving_image.GetPixelID())\n",
    "nda = sitk.GetArrayFromImage(moving_resampled).astype(np.uint8)\n",
    "\n",
    "for frame in range(nda.shape[-1]):\n",
    "    img = cv2.resize(nda[:,:,frame], (256,256))\n",
    "    cv2.imshow('registered', img)\n",
    "    cv2.waitKey(0)\n",
    "cv2.destroyAllWindows()"
   ]
  }
 ],
 "metadata": {
  "interpreter": {
   "hash": "49500bce9c9b8e2d78e6512532892d9001436c9ae2315d1070680c4741055e30"
  },
  "kernelspec": {
   "display_name": "Python 3.8.12 ('env_cvml')",
   "language": "python",
   "name": "python3"
  },
  "language_info": {
   "codemirror_mode": {
    "name": "ipython",
    "version": 3
   },
   "file_extension": ".py",
   "mimetype": "text/x-python",
   "name": "python",
   "nbconvert_exporter": "python",
   "pygments_lexer": "ipython3",
   "version": "3.8.12"
  },
  "orig_nbformat": 4
 },
 "nbformat": 4,
 "nbformat_minor": 2
}
